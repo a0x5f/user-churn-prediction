{
 "cells": [
  {
   "cell_type": "markdown",
   "id": "e9b17d7e",
   "metadata": {
    "id": "TK7oX5qdEEYr",
    "papermill": {
     "duration": 0.031961,
     "end_time": "2021-11-21T01:38:27.931746",
     "exception": false,
     "start_time": "2021-11-21T01:38:27.899785",
     "status": "completed"
    },
    "tags": []
   },
   "source": [
    "<p style=\"align: center;\"><img align=center src=\"https://s8.hostingkartinok.com/uploads/images/2018/08/308b49fcfbc619d629fe4604bceb67ac.jpg\" width=500 height=450/></p>\n",
    "\n",
    "<h3 style=\"text-align: center;\"><b>Школа глубокого обучения ФПМИ МФТИ</b></h3>\n",
    "\n",
    "<h3 style=\"text-align: center;\"><b>Домашнее задание. Продвинутый поток. Весна 2021</b></h3>\n",
    "\n",
    "Это домашнее задание будет посвящено полноценному решению задачи машинного обучения."
   ]
  },
  {
   "cell_type": "markdown",
   "id": "d8289031",
   "metadata": {
    "id": "zlB-owfaEEYs",
    "papermill": {
     "duration": 0.029271,
     "end_time": "2021-11-21T01:38:27.992888",
     "exception": false,
     "start_time": "2021-11-21T01:38:27.963617",
     "status": "completed"
    },
    "tags": []
   },
   "source": [
    "Есть две части этого домашнего задания: \n",
    "* Сделать полноценный отчет о вашей работе: как вы обработали данные, какие модели попробовали и какие результаты получились (максимум 10 баллов). За каждую выполненную часть будет начислено определенное количество баллов.\n",
    "* Лучшее решение отправить в соревнование на [kaggle](https://www.kaggle.com/c/advanced-dls-spring-2021/) (максимум 5 баллов). За прохождение определенного порогов будут начисляться баллы.\n",
    "\n",
    "\n",
    "**Обе части будут проверяться в формате peer-review. Т.е. вашу посылку на степик будут проверять несколько других студентов и аггрегация их оценок будет выставлена. В то же время вам тоже нужно будет проверить несколько других учеников.**\n",
    "\n",
    "**Пожалуйста, делайте свою работу чистой и понятной, чтобы облегчить проверку. Если у вас будут проблемы с решением или хочется совета, то пишите в наш чат в телеграме или в лс @runfme. Если вы захотите проаппелировать оценку, то пипшите в лс @runfme.**\n",
    "\n",
    "**Во всех пунктах указания это минимальный набор вещей, которые стоит сделать. Если вы можете сделать какой-то шаг лучше или добавить что-то свое - дерзайте!**"
   ]
  },
  {
   "cell_type": "markdown",
   "id": "a7aed85e",
   "metadata": {
    "id": "Tu_JvqcBEN8Y",
    "papermill": {
     "duration": 0.030466,
     "end_time": "2021-11-21T01:38:28.052825",
     "exception": false,
     "start_time": "2021-11-21T01:38:28.022359",
     "status": "completed"
    },
    "tags": []
   },
   "source": [
    "# Как проверять?\n",
    "\n",
    "Ставьте полный балл, если выполнены все рекомендации или сделано что-то более интересное и сложное. За каждый отсустствующий пункт из рекомендация снижайте 1 балл."
   ]
  },
  {
   "cell_type": "markdown",
   "id": "d67368af",
   "metadata": {
    "id": "ninJ63mJEEYt",
    "papermill": {
     "duration": 0.02994,
     "end_time": "2021-11-21T01:38:28.112854",
     "exception": false,
     "start_time": "2021-11-21T01:38:28.082914",
     "status": "completed"
    },
    "tags": []
   },
   "source": [
    "# Метрика\n",
    "\n",
    "Перед решением любой задачи важно понимать, как будет оцениваться ваше решение. В данном случае мы используем стандартную для задачи классификации метрику ROC-AUC. Ее можно вычислить используя только предсказанные вероятности и истинные классы без конкретного порога классификации + она раотает даже если классы в данных сильно несбалансированны (примеров одного класса в десятки раз больше примеров длугого). Именно поэтому она очень удобна для соревнований.\n",
    "\n",
    "Посчитать ее легко:\n"
   ]
  },
  {
   "cell_type": "code",
   "execution_count": 1,
   "id": "89451bbd",
   "metadata": {
    "execution": {
     "iopub.execute_input": "2021-11-21T01:38:28.179153Z",
     "iopub.status.busy": "2021-11-21T01:38:28.177996Z",
     "iopub.status.idle": "2021-11-21T01:38:29.169595Z",
     "shell.execute_reply": "2021-11-21T01:38:29.170113Z",
     "shell.execute_reply.started": "2021-11-21T01:25:52.637685Z"
    },
    "executionInfo": {
     "elapsed": 897,
     "status": "ok",
     "timestamp": 1634314824630,
     "user": {
      "displayName": "A F",
      "photoUrl": "https://lh3.googleusercontent.com/a-/AOh14GgZy5zRGm6ik6OA70qJGMFu1spLds0d085g4oG5EA=s64",
      "userId": "06133729827856766607"
     },
     "user_tz": -180
    },
    "id": "SQIrka7yEEYu",
    "outputId": "e76db982-eb43-431d-e9ed-44ec8367f830",
    "papermill": {
     "duration": 1.026417,
     "end_time": "2021-11-21T01:38:29.170396",
     "exception": false,
     "start_time": "2021-11-21T01:38:28.143979",
     "status": "completed"
    },
    "tags": []
   },
   "outputs": [
    {
     "data": {
      "text/plain": [
       "0.8333333333333333"
      ]
     },
     "execution_count": 1,
     "metadata": {},
     "output_type": "execute_result"
    }
   ],
   "source": [
    "from sklearn.metrics import roc_auc_score\n",
    "\n",
    "y_true = [\n",
    "    0,\n",
    "    1,\n",
    "    1,\n",
    "    0,\n",
    "    1\n",
    "]\n",
    "\n",
    "y_predictions = [\n",
    "    0.1,\n",
    "    0.9,\n",
    "    0.4,\n",
    "    0.6,\n",
    "    0.61\n",
    "]\n",
    "\n",
    "roc_auc_score(y_true, y_predictions)"
   ]
  },
  {
   "cell_type": "markdown",
   "id": "42eae755",
   "metadata": {
    "id": "IrDNNkNTEEYz",
    "papermill": {
     "duration": 0.030397,
     "end_time": "2021-11-21T01:38:29.232647",
     "exception": false,
     "start_time": "2021-11-21T01:38:29.202250",
     "status": "completed"
    },
    "tags": []
   },
   "source": [
    "# Первая часть. Исследование"
   ]
  },
  {
   "cell_type": "code",
   "execution_count": 2,
   "id": "5b5d464e",
   "metadata": {
    "execution": {
     "iopub.execute_input": "2021-11-21T01:38:29.297424Z",
     "iopub.status.busy": "2021-11-21T01:38:29.296387Z",
     "iopub.status.idle": "2021-11-21T01:38:29.300657Z",
     "shell.execute_reply": "2021-11-21T01:38:29.301148Z",
     "shell.execute_reply.started": "2021-11-21T01:25:53.654264Z"
    },
    "executionInfo": {
     "elapsed": 510,
     "status": "ok",
     "timestamp": 1634318482763,
     "user": {
      "displayName": "A F",
      "photoUrl": "https://lh3.googleusercontent.com/a-/AOh14GgZy5zRGm6ik6OA70qJGMFu1spLds0d085g4oG5EA=s64",
      "userId": "06133729827856766607"
     },
     "user_tz": -180
    },
    "id": "lzLqEeZKEEYz",
    "papermill": {
     "duration": 0.038631,
     "end_time": "2021-11-21T01:38:29.301321",
     "exception": false,
     "start_time": "2021-11-21T01:38:29.262690",
     "status": "completed"
    },
    "tags": []
   },
   "outputs": [],
   "source": [
    "import pandas as pd\n",
    "import numpy as np\n",
    "from matplotlib import pyplot as plt"
   ]
  },
  {
   "cell_type": "markdown",
   "id": "a42755a8",
   "metadata": {
    "id": "LOlxdURSEEY3",
    "papermill": {
     "duration": 0.031092,
     "end_time": "2021-11-21T01:38:29.364146",
     "exception": false,
     "start_time": "2021-11-21T01:38:29.333054",
     "status": "completed"
    },
    "tags": []
   },
   "source": [
    "## Загрузка данных (2 балла)\n",
    "\n",
    "1) Посмотрите на случайные строчки. \n",
    "\n",
    "2) Посмотрите, есть ли в датасете незаполненные значения (nan'ы) с помощью data.isna() или data.info() и, если нужно, замените их на что-то. Будет хорошо, если вы построите табличку с количеством nan в каждой колонке."
   ]
  },
  {
   "cell_type": "code",
   "execution_count": 3,
   "id": "70c7919f",
   "metadata": {
    "execution": {
     "iopub.execute_input": "2021-11-21T01:38:29.429644Z",
     "iopub.status.busy": "2021-11-21T01:38:29.428891Z",
     "iopub.status.idle": "2021-11-21T01:38:29.438152Z",
     "shell.execute_reply": "2021-11-21T01:38:29.438675Z",
     "shell.execute_reply.started": "2021-11-21T01:25:53.661397Z"
    },
    "papermill": {
     "duration": 0.043827,
     "end_time": "2021-11-21T01:38:29.438840",
     "exception": false,
     "start_time": "2021-11-21T01:38:29.395013",
     "status": "completed"
    },
    "tags": []
   },
   "outputs": [
    {
     "name": "stdout",
     "output_type": "stream",
     "text": [
      "/kaggle/input/advanced-dls-spring-2021/submission.csv\n",
      "/kaggle/input/advanced-dls-spring-2021/train.csv\n",
      "/kaggle/input/advanced-dls-spring-2021/test.csv\n"
     ]
    }
   ],
   "source": [
    "import os\n",
    "for dirname, _, filenames in os.walk('/kaggle/input'):\n",
    "    for filename in filenames:\n",
    "        print(os.path.join(dirname, filename))"
   ]
  },
  {
   "cell_type": "code",
   "execution_count": 4,
   "id": "ddd28c4e",
   "metadata": {
    "execution": {
     "iopub.execute_input": "2021-11-21T01:38:29.507493Z",
     "iopub.status.busy": "2021-11-21T01:38:29.506812Z",
     "iopub.status.idle": "2021-11-21T01:38:29.575082Z",
     "shell.execute_reply": "2021-11-21T01:38:29.575619Z",
     "shell.execute_reply.started": "2021-11-21T01:25:53.681194Z"
    },
    "executionInfo": {
     "elapsed": 394,
     "status": "ok",
     "timestamp": 1634319819600,
     "user": {
      "displayName": "A F",
      "photoUrl": "https://lh3.googleusercontent.com/a-/AOh14GgZy5zRGm6ik6OA70qJGMFu1spLds0d085g4oG5EA=s64",
      "userId": "06133729827856766607"
     },
     "user_tz": -180
    },
    "id": "pw-Brue9EEY3",
    "outputId": "9150ced5-20a1-41a6-d7c5-a829f77f58b0",
    "papermill": {
     "duration": 0.105799,
     "end_time": "2021-11-21T01:38:29.575791",
     "exception": false,
     "start_time": "2021-11-21T01:38:29.469992",
     "status": "completed"
    },
    "tags": []
   },
   "outputs": [
    {
     "data": {
      "text/html": [
       "<div>\n",
       "<style scoped>\n",
       "    .dataframe tbody tr th:only-of-type {\n",
       "        vertical-align: middle;\n",
       "    }\n",
       "\n",
       "    .dataframe tbody tr th {\n",
       "        vertical-align: top;\n",
       "    }\n",
       "\n",
       "    .dataframe thead th {\n",
       "        text-align: right;\n",
       "    }\n",
       "</style>\n",
       "<table border=\"1\" class=\"dataframe\">\n",
       "  <thead>\n",
       "    <tr style=\"text-align: right;\">\n",
       "      <th></th>\n",
       "      <th>ClientPeriod</th>\n",
       "      <th>MonthlySpending</th>\n",
       "      <th>TotalSpent</th>\n",
       "      <th>Sex</th>\n",
       "      <th>IsSeniorCitizen</th>\n",
       "      <th>HasPartner</th>\n",
       "      <th>HasChild</th>\n",
       "      <th>HasPhoneService</th>\n",
       "      <th>HasMultiplePhoneNumbers</th>\n",
       "      <th>HasInternetService</th>\n",
       "      <th>HasOnlineSecurityService</th>\n",
       "      <th>HasOnlineBackup</th>\n",
       "      <th>HasDeviceProtection</th>\n",
       "      <th>HasTechSupportAccess</th>\n",
       "      <th>HasOnlineTV</th>\n",
       "      <th>HasMovieSubscription</th>\n",
       "      <th>HasContractPhone</th>\n",
       "      <th>IsBillingPaperless</th>\n",
       "      <th>PaymentMethod</th>\n",
       "      <th>Churn</th>\n",
       "    </tr>\n",
       "  </thead>\n",
       "  <tbody>\n",
       "    <tr>\n",
       "      <th>4062</th>\n",
       "      <td>35</td>\n",
       "      <td>76.05</td>\n",
       "      <td>2747.2</td>\n",
       "      <td>Male</td>\n",
       "      <td>1</td>\n",
       "      <td>Yes</td>\n",
       "      <td>Yes</td>\n",
       "      <td>Yes</td>\n",
       "      <td>No</td>\n",
       "      <td>DSL</td>\n",
       "      <td>No</td>\n",
       "      <td>Yes</td>\n",
       "      <td>No</td>\n",
       "      <td>Yes</td>\n",
       "      <td>Yes</td>\n",
       "      <td>Yes</td>\n",
       "      <td>Month-to-month</td>\n",
       "      <td>Yes</td>\n",
       "      <td>Electronic check</td>\n",
       "      <td>0</td>\n",
       "    </tr>\n",
       "    <tr>\n",
       "      <th>732</th>\n",
       "      <td>69</td>\n",
       "      <td>85.40</td>\n",
       "      <td>5869.4</td>\n",
       "      <td>Female</td>\n",
       "      <td>0</td>\n",
       "      <td>Yes</td>\n",
       "      <td>No</td>\n",
       "      <td>Yes</td>\n",
       "      <td>Yes</td>\n",
       "      <td>Fiber optic</td>\n",
       "      <td>No</td>\n",
       "      <td>Yes</td>\n",
       "      <td>Yes</td>\n",
       "      <td>No</td>\n",
       "      <td>No</td>\n",
       "      <td>No</td>\n",
       "      <td>Month-to-month</td>\n",
       "      <td>Yes</td>\n",
       "      <td>Bank transfer (automatic)</td>\n",
       "      <td>0</td>\n",
       "    </tr>\n",
       "    <tr>\n",
       "      <th>3177</th>\n",
       "      <td>48</td>\n",
       "      <td>29.50</td>\n",
       "      <td>1423.05</td>\n",
       "      <td>Female</td>\n",
       "      <td>0</td>\n",
       "      <td>Yes</td>\n",
       "      <td>Yes</td>\n",
       "      <td>No</td>\n",
       "      <td>No phone service</td>\n",
       "      <td>DSL</td>\n",
       "      <td>No</td>\n",
       "      <td>No</td>\n",
       "      <td>No</td>\n",
       "      <td>Yes</td>\n",
       "      <td>No</td>\n",
       "      <td>No</td>\n",
       "      <td>Month-to-month</td>\n",
       "      <td>Yes</td>\n",
       "      <td>Credit card (automatic)</td>\n",
       "      <td>0</td>\n",
       "    </tr>\n",
       "    <tr>\n",
       "      <th>2574</th>\n",
       "      <td>32</td>\n",
       "      <td>91.05</td>\n",
       "      <td>2871.5</td>\n",
       "      <td>Male</td>\n",
       "      <td>0</td>\n",
       "      <td>No</td>\n",
       "      <td>No</td>\n",
       "      <td>Yes</td>\n",
       "      <td>No</td>\n",
       "      <td>Fiber optic</td>\n",
       "      <td>No</td>\n",
       "      <td>No</td>\n",
       "      <td>No</td>\n",
       "      <td>No</td>\n",
       "      <td>Yes</td>\n",
       "      <td>Yes</td>\n",
       "      <td>Month-to-month</td>\n",
       "      <td>No</td>\n",
       "      <td>Electronic check</td>\n",
       "      <td>0</td>\n",
       "    </tr>\n",
       "    <tr>\n",
       "      <th>3714</th>\n",
       "      <td>24</td>\n",
       "      <td>54.60</td>\n",
       "      <td>1242.25</td>\n",
       "      <td>Male</td>\n",
       "      <td>0</td>\n",
       "      <td>No</td>\n",
       "      <td>No</td>\n",
       "      <td>Yes</td>\n",
       "      <td>Yes</td>\n",
       "      <td>DSL</td>\n",
       "      <td>No</td>\n",
       "      <td>No</td>\n",
       "      <td>No</td>\n",
       "      <td>Yes</td>\n",
       "      <td>No</td>\n",
       "      <td>No</td>\n",
       "      <td>One year</td>\n",
       "      <td>No</td>\n",
       "      <td>Bank transfer (automatic)</td>\n",
       "      <td>0</td>\n",
       "    </tr>\n",
       "  </tbody>\n",
       "</table>\n",
       "</div>"
      ],
      "text/plain": [
       "      ClientPeriod  MonthlySpending TotalSpent     Sex  IsSeniorCitizen  \\\n",
       "4062            35            76.05     2747.2    Male                1   \n",
       "732             69            85.40     5869.4  Female                0   \n",
       "3177            48            29.50    1423.05  Female                0   \n",
       "2574            32            91.05     2871.5    Male                0   \n",
       "3714            24            54.60    1242.25    Male                0   \n",
       "\n",
       "     HasPartner HasChild HasPhoneService HasMultiplePhoneNumbers  \\\n",
       "4062        Yes      Yes             Yes                      No   \n",
       "732         Yes       No             Yes                     Yes   \n",
       "3177        Yes      Yes              No        No phone service   \n",
       "2574         No       No             Yes                      No   \n",
       "3714         No       No             Yes                     Yes   \n",
       "\n",
       "     HasInternetService HasOnlineSecurityService HasOnlineBackup  \\\n",
       "4062                DSL                       No             Yes   \n",
       "732         Fiber optic                       No             Yes   \n",
       "3177                DSL                       No              No   \n",
       "2574        Fiber optic                       No              No   \n",
       "3714                DSL                       No              No   \n",
       "\n",
       "     HasDeviceProtection HasTechSupportAccess HasOnlineTV  \\\n",
       "4062                  No                  Yes         Yes   \n",
       "732                  Yes                   No          No   \n",
       "3177                  No                  Yes          No   \n",
       "2574                  No                   No         Yes   \n",
       "3714                  No                  Yes          No   \n",
       "\n",
       "     HasMovieSubscription HasContractPhone IsBillingPaperless  \\\n",
       "4062                  Yes   Month-to-month                Yes   \n",
       "732                    No   Month-to-month                Yes   \n",
       "3177                   No   Month-to-month                Yes   \n",
       "2574                  Yes   Month-to-month                 No   \n",
       "3714                   No         One year                 No   \n",
       "\n",
       "                  PaymentMethod  Churn  \n",
       "4062           Electronic check      0  \n",
       "732   Bank transfer (automatic)      0  \n",
       "3177    Credit card (automatic)      0  \n",
       "2574           Electronic check      0  \n",
       "3714  Bank transfer (automatic)      0  "
      ]
     },
     "execution_count": 4,
     "metadata": {},
     "output_type": "execute_result"
    }
   ],
   "source": [
    "data = pd.read_csv('/kaggle/input/advanced-dls-spring-2021/train.csv')\n",
    "data.sample(5)"
   ]
  },
  {
   "cell_type": "code",
   "execution_count": 5,
   "id": "460388fd",
   "metadata": {
    "execution": {
     "iopub.execute_input": "2021-11-21T01:38:29.700306Z",
     "iopub.status.busy": "2021-11-21T01:38:29.699304Z",
     "iopub.status.idle": "2021-11-21T01:38:29.705037Z",
     "shell.execute_reply": "2021-11-21T01:38:29.705704Z",
     "shell.execute_reply.started": "2021-11-21T01:25:53.762165Z"
    },
    "executionInfo": {
     "elapsed": 8,
     "status": "ok",
     "timestamp": 1634319822792,
     "user": {
      "displayName": "A F",
      "photoUrl": "https://lh3.googleusercontent.com/a-/AOh14GgZy5zRGm6ik6OA70qJGMFu1spLds0d085g4oG5EA=s64",
      "userId": "06133729827856766607"
     },
     "user_tz": -180
    },
    "id": "KgnkkF5bEEY9",
    "papermill": {
     "duration": 0.098094,
     "end_time": "2021-11-21T01:38:29.705874",
     "exception": false,
     "start_time": "2021-11-21T01:38:29.607780",
     "status": "completed"
    },
    "tags": []
   },
   "outputs": [],
   "source": [
    "# Для вашего удобства списки с именами разных колонок\n",
    "\n",
    "# Числовые признаки\n",
    "num_cols = [\n",
    "    'ClientPeriod',\n",
    "    'MonthlySpending',\n",
    "    'TotalSpent'\n",
    "]\n",
    "\n",
    "# Категориальные признаки\n",
    "cat_cols = [\n",
    "    'Sex',\n",
    "    'IsSeniorCitizen',\n",
    "    'HasPartner',\n",
    "    'HasChild',\n",
    "    'HasPhoneService',\n",
    "    'HasMultiplePhoneNumbers',\n",
    "    'HasInternetService',\n",
    "    'HasOnlineSecurityService',\n",
    "    'HasOnlineBackup',\n",
    "    'HasDeviceProtection',\n",
    "    'HasTechSupportAccess',\n",
    "    'HasOnlineTV',\n",
    "    'HasMovieSubscription',\n",
    "    'HasContractPhone',\n",
    "    'IsBillingPaperless',\n",
    "    'PaymentMethod'\n",
    "]\n",
    "\n",
    "feature_cols = num_cols + cat_cols\n",
    "target_col = 'Churn'"
   ]
  },
  {
   "cell_type": "markdown",
   "id": "cd6b3b74",
   "metadata": {
    "id": "jmNFo11k7XZz",
    "papermill": {
     "duration": 0.031675,
     "end_time": "2021-11-21T01:38:29.769006",
     "exception": false,
     "start_time": "2021-11-21T01:38:29.737331",
     "status": "completed"
    },
    "tags": []
   },
   "source": [
    "Посмотрим на количество nan в каждой колонке"
   ]
  },
  {
   "cell_type": "code",
   "execution_count": 6,
   "id": "41526e4b",
   "metadata": {
    "execution": {
     "iopub.execute_input": "2021-11-21T01:38:29.836075Z",
     "iopub.status.busy": "2021-11-21T01:38:29.835020Z",
     "iopub.status.idle": "2021-11-21T01:38:29.853176Z",
     "shell.execute_reply": "2021-11-21T01:38:29.853734Z",
     "shell.execute_reply.started": "2021-11-21T01:25:53.770491Z"
    },
    "executionInfo": {
     "elapsed": 653,
     "status": "ok",
     "timestamp": 1634319826793,
     "user": {
      "displayName": "A F",
      "photoUrl": "https://lh3.googleusercontent.com/a-/AOh14GgZy5zRGm6ik6OA70qJGMFu1spLds0d085g4oG5EA=s64",
      "userId": "06133729827856766607"
     },
     "user_tz": -180
    },
    "id": "MO2pe3MS7FsC",
    "outputId": "f41fb245-ec30-46d3-a56f-36f0a96476e0",
    "papermill": {
     "duration": 0.053452,
     "end_time": "2021-11-21T01:38:29.853902",
     "exception": false,
     "start_time": "2021-11-21T01:38:29.800450",
     "status": "completed"
    },
    "tags": []
   },
   "outputs": [
    {
     "data": {
      "text/plain": [
       "ClientPeriod                0\n",
       "MonthlySpending             0\n",
       "TotalSpent                  0\n",
       "Sex                         0\n",
       "IsSeniorCitizen             0\n",
       "HasPartner                  0\n",
       "HasChild                    0\n",
       "HasPhoneService             0\n",
       "HasMultiplePhoneNumbers     0\n",
       "HasInternetService          0\n",
       "HasOnlineSecurityService    0\n",
       "HasOnlineBackup             0\n",
       "HasDeviceProtection         0\n",
       "HasTechSupportAccess        0\n",
       "HasOnlineTV                 0\n",
       "HasMovieSubscription        0\n",
       "HasContractPhone            0\n",
       "IsBillingPaperless          0\n",
       "PaymentMethod               0\n",
       "Churn                       0\n",
       "dtype: int64"
      ]
     },
     "execution_count": 6,
     "metadata": {},
     "output_type": "execute_result"
    }
   ],
   "source": [
    "data.isna().sum()"
   ]
  },
  {
   "cell_type": "markdown",
   "id": "e7a0aabe",
   "metadata": {
    "id": "_TEGDJJI7h0E",
    "papermill": {
     "duration": 0.032497,
     "end_time": "2021-11-21T01:38:29.917794",
     "exception": false,
     "start_time": "2021-11-21T01:38:29.885297",
     "status": "completed"
    },
    "tags": []
   },
   "source": [
    "Посмотрим на числовые признаки"
   ]
  },
  {
   "cell_type": "code",
   "execution_count": 7,
   "id": "1e17578f",
   "metadata": {
    "execution": {
     "iopub.execute_input": "2021-11-21T01:38:29.988908Z",
     "iopub.status.busy": "2021-11-21T01:38:29.987866Z",
     "iopub.status.idle": "2021-11-21T01:38:30.011766Z",
     "shell.execute_reply": "2021-11-21T01:38:30.012301Z",
     "shell.execute_reply.started": "2021-11-21T01:25:53.799541Z"
    },
    "executionInfo": {
     "elapsed": 416,
     "status": "ok",
     "timestamp": 1634319828940,
     "user": {
      "displayName": "A F",
      "photoUrl": "https://lh3.googleusercontent.com/a-/AOh14GgZy5zRGm6ik6OA70qJGMFu1spLds0d085g4oG5EA=s64",
      "userId": "06133729827856766607"
     },
     "user_tz": -180
    },
    "id": "5WiKrXbm7tt8",
    "outputId": "7aaf224a-6d23-4658-efc1-86da3838ef24",
    "papermill": {
     "duration": 0.060842,
     "end_time": "2021-11-21T01:38:30.012471",
     "exception": false,
     "start_time": "2021-11-21T01:38:29.951629",
     "status": "completed"
    },
    "tags": []
   },
   "outputs": [
    {
     "name": "stdout",
     "output_type": "stream",
     "text": [
      "<class 'pandas.core.frame.DataFrame'>\n",
      "RangeIndex: 5282 entries, 0 to 5281\n",
      "Data columns (total 3 columns):\n",
      " #   Column           Non-Null Count  Dtype  \n",
      "---  ------           --------------  -----  \n",
      " 0   ClientPeriod     5282 non-null   int64  \n",
      " 1   MonthlySpending  5282 non-null   float64\n",
      " 2   TotalSpent       5282 non-null   object \n",
      "dtypes: float64(1), int64(1), object(1)\n",
      "memory usage: 123.9+ KB\n"
     ]
    }
   ],
   "source": [
    "data[num_cols].info()"
   ]
  },
  {
   "cell_type": "markdown",
   "id": "6c8d4054",
   "metadata": {
    "id": "tBGZzns59HIA",
    "papermill": {
     "duration": 0.031904,
     "end_time": "2021-11-21T01:38:30.077331",
     "exception": false,
     "start_time": "2021-11-21T01:38:30.045427",
     "status": "completed"
    },
    "tags": []
   },
   "source": [
    "Попытка выполнить `data['TotalSpent'] = data['TotalSpent'].astype(float)` завершается ошибкой из-за пропусков. Необходимо избавиться от таких записей"
   ]
  },
  {
   "cell_type": "code",
   "execution_count": 8,
   "id": "3aa9f95f",
   "metadata": {
    "execution": {
     "iopub.execute_input": "2021-11-21T01:38:30.148542Z",
     "iopub.status.busy": "2021-11-21T01:38:30.147445Z",
     "iopub.status.idle": "2021-11-21T01:38:30.167587Z",
     "shell.execute_reply": "2021-11-21T01:38:30.166979Z",
     "shell.execute_reply.started": "2021-11-21T01:25:53.826859Z"
    },
    "executionInfo": {
     "elapsed": 9,
     "status": "ok",
     "timestamp": 1634319830886,
     "user": {
      "displayName": "A F",
      "photoUrl": "https://lh3.googleusercontent.com/a-/AOh14GgZy5zRGm6ik6OA70qJGMFu1spLds0d085g4oG5EA=s64",
      "userId": "06133729827856766607"
     },
     "user_tz": -180
    },
    "id": "F9QG3Jqi7x9I",
    "outputId": "3649be17-7709-446d-d93c-819718bdf378",
    "papermill": {
     "duration": 0.057464,
     "end_time": "2021-11-21T01:38:30.167736",
     "exception": false,
     "start_time": "2021-11-21T01:38:30.110272",
     "status": "completed"
    },
    "tags": []
   },
   "outputs": [
    {
     "name": "stdout",
     "output_type": "stream",
     "text": [
      "<class 'pandas.core.frame.DataFrame'>\n",
      "Int64Index: 5273 entries, 0 to 5281\n",
      "Data columns (total 3 columns):\n",
      " #   Column           Non-Null Count  Dtype  \n",
      "---  ------           --------------  -----  \n",
      " 0   ClientPeriod     5273 non-null   int64  \n",
      " 1   MonthlySpending  5273 non-null   float64\n",
      " 2   TotalSpent       5273 non-null   float64\n",
      "dtypes: float64(2), int64(1)\n",
      "memory usage: 164.8 KB\n"
     ]
    }
   ],
   "source": [
    "data = data.drop(data[data.TotalSpent == ' '].index)\n",
    "data['TotalSpent'] = data['TotalSpent'].astype(float)\n",
    "data[num_cols].info()"
   ]
  },
  {
   "cell_type": "markdown",
   "id": "ac4b8b3c",
   "metadata": {
    "id": "dK370bPCEEZD",
    "papermill": {
     "duration": 0.034086,
     "end_time": "2021-11-21T01:38:30.234435",
     "exception": false,
     "start_time": "2021-11-21T01:38:30.200349",
     "status": "completed"
    },
    "tags": []
   },
   "source": [
    "## Анализ данных (3 балла)\n",
    "\n",
    "1) Для численных призанков постройте гистограмму (*plt.hist(...)*) или boxplot (*plt.boxplot(...)*). Для категориальных посчитайте количество каждого значения для каждого признака. Для каждой колонки надо сделать *data.value_counts()* и построить bar диаграммы *plt.bar(...)* или круговые диаграммы *plt.pie(...)* (хорошо, елси вы сможете это сделать на одном гарфике с помощью *plt.subplots(...)*). \n",
    "\n",
    "2) Посмотрите на распределение целевой переменной и скажите, являются ли классы несбалансированными.\n",
    "\n",
    "3) (Если будет желание) Поиграйте с разными библиотеками для визуализации - *sns*, *pandas_visual_analysis*, etc.\n",
    "\n",
    "Второй пункт очень важен, потому что существуют задачи классификации с несбалансированными классами. Например, это может значить, что в датасете намного больше примеров 0 класса. В таких случаях нужно 1) не использовать accuracy как метрику 2) использовать методы борьбы с imbalanced dataset (обычно если датасет сильно несбалансирован, т.е. класса 1 в 20 раз меньше класса 0)."
   ]
  },
  {
   "cell_type": "markdown",
   "id": "1b84fe5c",
   "metadata": {
    "id": "my7zrzhbEYcV",
    "papermill": {
     "duration": 0.032906,
     "end_time": "2021-11-21T01:38:30.301774",
     "exception": false,
     "start_time": "2021-11-21T01:38:30.268868",
     "status": "completed"
    },
    "tags": []
   },
   "source": [
    "* Чиловые признаки"
   ]
  },
  {
   "cell_type": "code",
   "execution_count": 9,
   "id": "1873154f",
   "metadata": {
    "execution": {
     "iopub.execute_input": "2021-11-21T01:38:30.371214Z",
     "iopub.status.busy": "2021-11-21T01:38:30.370193Z",
     "iopub.status.idle": "2021-11-21T01:38:31.145534Z",
     "shell.execute_reply": "2021-11-21T01:38:31.146301Z",
     "shell.execute_reply.started": "2021-11-21T01:25:53.849120Z"
    },
    "executionInfo": {
     "elapsed": 1059,
     "status": "ok",
     "timestamp": 1634319879351,
     "user": {
      "displayName": "A F",
      "photoUrl": "https://lh3.googleusercontent.com/a-/AOh14GgZy5zRGm6ik6OA70qJGMFu1spLds0d085g4oG5EA=s64",
      "userId": "06133729827856766607"
     },
     "user_tz": -180
    },
    "id": "NZkbgFJZEEZE",
    "outputId": "15d276e4-56ec-4fec-827c-90245cd3e776",
    "papermill": {
     "duration": 0.812104,
     "end_time": "2021-11-21T01:38:31.146498",
     "exception": false,
     "start_time": "2021-11-21T01:38:30.334394",
     "status": "completed"
    },
    "tags": []
   },
   "outputs": [
    {
     "data": {
      "image/png": "[encoded data removed]",
      "text/plain": [
       "<Figure size 1008x1008 with 3 Axes>"
      ]
     },
     "metadata": {
      "needs_background": "light"
     },
     "output_type": "display_data"
    }
   ],
   "source": [
    "fig, axes = plt.subplots(3, 1, figsize=(14,14))\n",
    "axes = axes.flatten()\n",
    "\n",
    "for i, col in enumerate(num_cols):\n",
    "    axes[i].hist(data[col], bins=30)\n",
    "    axes[i].set_title(col, size=15).set_weight('bold')\n",
    "    \n",
    "plt.show()"
   ]
  },
  {
   "cell_type": "markdown",
   "id": "7166eb90",
   "metadata": {
    "id": "ZnMQXykJETNU",
    "papermill": {
     "duration": 0.033356,
     "end_time": "2021-11-21T01:38:31.214750",
     "exception": false,
     "start_time": "2021-11-21T01:38:31.181394",
     "status": "completed"
    },
    "tags": []
   },
   "source": [
    "* Категориальные признаки"
   ]
  },
  {
   "cell_type": "code",
   "execution_count": 10,
   "id": "e4286d73",
   "metadata": {
    "execution": {
     "iopub.execute_input": "2021-11-21T01:38:31.296788Z",
     "iopub.status.busy": "2021-11-21T01:38:31.296043Z",
     "iopub.status.idle": "2021-11-21T01:38:33.792247Z",
     "shell.execute_reply": "2021-11-21T01:38:33.792765Z",
     "shell.execute_reply.started": "2021-11-21T01:25:54.635269Z"
    },
    "executionInfo": {
     "elapsed": 2648,
     "status": "ok",
     "timestamp": 1634319811514,
     "user": {
      "displayName": "A F",
      "photoUrl": "https://lh3.googleusercontent.com/a-/AOh14GgZy5zRGm6ik6OA70qJGMFu1spLds0d085g4oG5EA=s64",
      "userId": "06133729827856766607"
     },
     "user_tz": -180
    },
    "id": "Q48HXLoMBWVq",
    "outputId": "a9455cd2-7eed-4bae-ffb2-a7465c3ccd7a",
    "papermill": {
     "duration": 2.544933,
     "end_time": "2021-11-21T01:38:33.792933",
     "exception": false,
     "start_time": "2021-11-21T01:38:31.248000",
     "status": "completed"
    },
    "tags": []
   },
   "outputs": [
    {
     "data": {
      "image/png": "[encoded data removed]",
      "text/plain": [
       "<Figure size 1440x1440 with 16 Axes>"
      ]
     },
     "metadata": {},
     "output_type": "display_data"
    }
   ],
   "source": [
    "fig, axes = plt.subplots(4, 4, figsize=(20,20))\n",
    "axes = axes.flatten()\n",
    "\n",
    "for i, col in enumerate(cat_cols):\n",
    "    d = data[cat_cols[i]].value_counts()\n",
    "    axes[i].pie(d, labels = d.index, autopct='%1.1f%%')\n",
    "    axes[i].set_title(col, size=15).set_weight('bold')\n",
    "    axes[i].legend()\n",
    "\n",
    "plt.show()"
   ]
  },
  {
   "cell_type": "markdown",
   "id": "e963b414",
   "metadata": {
    "id": "05c-GtujDwS7",
    "papermill": {
     "duration": 0.040261,
     "end_time": "2021-11-21T01:38:33.873856",
     "exception": false,
     "start_time": "2021-11-21T01:38:33.833595",
     "status": "completed"
    },
    "tags": []
   },
   "source": [
    "* Распределение целевой переменной"
   ]
  },
  {
   "cell_type": "code",
   "execution_count": 11,
   "id": "b45001a8",
   "metadata": {
    "execution": {
     "iopub.execute_input": "2021-11-21T01:38:33.958454Z",
     "iopub.status.busy": "2021-11-21T01:38:33.957755Z",
     "iopub.status.idle": "2021-11-21T01:38:34.100897Z",
     "shell.execute_reply": "2021-11-21T01:38:34.101517Z",
     "shell.execute_reply.started": "2021-11-21T01:25:57.177207Z"
    },
    "executionInfo": {
     "elapsed": 403,
     "status": "ok",
     "timestamp": 1634320011636,
     "user": {
      "displayName": "A F",
      "photoUrl": "https://lh3.googleusercontent.com/a-/AOh14GgZy5zRGm6ik6OA70qJGMFu1spLds0d085g4oG5EA=s64",
      "userId": "06133729827856766607"
     },
     "user_tz": -180
    },
    "id": "KE2RC62gD0Kw",
    "outputId": "abe9f76c-673f-4ac7-f245-7c20a1fdddc4",
    "papermill": {
     "duration": 0.188112,
     "end_time": "2021-11-21T01:38:34.101692",
     "exception": false,
     "start_time": "2021-11-21T01:38:33.913580",
     "status": "completed"
    },
    "tags": []
   },
   "outputs": [
    {
     "data": {
      "image/png": "[encoded data removed]",
      "text/plain": [
       "<Figure size 432x288 with 1 Axes>"
      ]
     },
     "metadata": {},
     "output_type": "display_data"
    }
   ],
   "source": [
    "d = data[target_col].value_counts()\n",
    "plt.pie(d, labels=d.index, autopct='%1.1f%%')\n",
    "plt.title('Churn')\n",
    "plt.legend()\n",
    "\n",
    "plt.show()"
   ]
  },
  {
   "cell_type": "markdown",
   "id": "ff817307",
   "metadata": {
    "papermill": {
     "duration": 0.040195,
     "end_time": "2021-11-21T01:38:34.182525",
     "exception": false,
     "start_time": "2021-11-21T01:38:34.142330",
     "status": "completed"
    },
    "tags": []
   },
   "source": [
    "Распределение целевой переменной не является равномерным, следовательно, использовать метрику `accuracy` в данной задаче не получится"
   ]
  },
  {
   "cell_type": "markdown",
   "id": "c5b35ad4",
   "metadata": {
    "id": "DviiJd8REEZK",
    "papermill": {
     "duration": 0.040155,
     "end_time": "2021-11-21T01:38:34.263518",
     "exception": false,
     "start_time": "2021-11-21T01:38:34.223363",
     "status": "completed"
    },
    "tags": []
   },
   "source": [
    "## Применение линейных моделей (3 балла)\n",
    "\n",
    "1) Обработайте данные для того, чтобы к ним можно было применить LogisticRegression. Т.е. отнормируйте числовые признаки, а категориальные закодируйте с помощью one-hot-encoding'а. \n",
    "\n",
    "2) С помощью кроссвалидации или разделения на train/valid выборку протестируйте разные значения гиперпараметра C и выберите лучший (можно тестировать С=100, 10, 1, 0.1, 0.01, 0.001) по метрике ROC-AUC. \n",
    "\n",
    "Если вы разделяете на train/valid, то используйте LogisticRegressionCV. Он сам при вызове .fit() подберет параметр С. (не забудьте передать scroing='roc_auc', чтобы при кроссвалидации сравнивались значения этой метрики, и refit=True, чтобы при потом модель обучилась на всем датасете с лучшим параметром C). \n",
    "\n",
    "\n",
    "(более сложный вариант) Если вы будете использовать кроссвалидацию, то преобразования данных и LogisticRegression нужно соединить в один Pipeline с помощью make_pipeline, как это делалось во втором семинаре. Потом pipeline надо передать в GridSearchCV. Для one-hot-encoding'a можно испльзовать комбинацию LabelEncoder + OneHotEncoder (сначала превращаем строчки в числа, а потом числа првращаем в one-hot вектора.)"
   ]
  },
  {
   "cell_type": "code",
   "execution_count": 12,
   "id": "7610ace9",
   "metadata": {
    "execution": {
     "iopub.execute_input": "2021-11-21T01:38:34.348058Z",
     "iopub.status.busy": "2021-11-21T01:38:34.347276Z",
     "iopub.status.idle": "2021-11-21T01:38:34.448993Z",
     "shell.execute_reply": "2021-11-21T01:38:34.449538Z",
     "shell.execute_reply.started": "2021-11-21T01:25:57.363363Z"
    },
    "executionInfo": {
     "elapsed": 8,
     "status": "ok",
     "timestamp": 1634323169491,
     "user": {
      "displayName": "A F",
      "photoUrl": "https://lh3.googleusercontent.com/a-/AOh14GgZy5zRGm6ik6OA70qJGMFu1spLds0d085g4oG5EA=s64",
      "userId": "06133729827856766607"
     },
     "user_tz": -180
    },
    "id": "xHCLDmwqEEZL",
    "papermill": {
     "duration": 0.145917,
     "end_time": "2021-11-21T01:38:34.449735",
     "exception": false,
     "start_time": "2021-11-21T01:38:34.303818",
     "status": "completed"
    },
    "tags": []
   },
   "outputs": [],
   "source": [
    "from sklearn.linear_model import LogisticRegression, LogisticRegressionCV\n",
    "from sklearn.model_selection import train_test_split, GridSearchCV\n",
    "from sklearn.preprocessing import StandardScaler, RobustScaler, LabelEncoder, OneHotEncoder\n",
    "from sklearn.pipeline import make_pipeline"
   ]
  },
  {
   "cell_type": "code",
   "execution_count": 13,
   "id": "f0c1e3a4",
   "metadata": {
    "execution": {
     "iopub.execute_input": "2021-11-21T01:38:34.535390Z",
     "iopub.status.busy": "2021-11-21T01:38:34.534742Z",
     "iopub.status.idle": "2021-11-21T01:38:34.581694Z",
     "shell.execute_reply": "2021-11-21T01:38:34.582233Z",
     "shell.execute_reply.started": "2021-11-21T01:25:57.480752Z"
    },
    "executionInfo": {
     "elapsed": 6,
     "status": "ok",
     "timestamp": 1634328458169,
     "user": {
      "displayName": "A F",
      "photoUrl": "https://lh3.googleusercontent.com/a-/AOh14GgZy5zRGm6ik6OA70qJGMFu1spLds0d085g4oG5EA=s64",
      "userId": "06133729827856766607"
     },
     "user_tz": -180
    },
    "id": "P2Yv3uYtEEZO",
    "outputId": "7fd3e01b-8aaa-4ba1-ae85-41d5b766086d",
    "papermill": {
     "duration": 0.091095,
     "end_time": "2021-11-21T01:38:34.582401",
     "exception": false,
     "start_time": "2021-11-21T01:38:34.491306",
     "status": "completed"
    },
    "tags": []
   },
   "outputs": [
    {
     "data": {
      "text/html": [
       "<div>\n",
       "<style scoped>\n",
       "    .dataframe tbody tr th:only-of-type {\n",
       "        vertical-align: middle;\n",
       "    }\n",
       "\n",
       "    .dataframe tbody tr th {\n",
       "        vertical-align: top;\n",
       "    }\n",
       "\n",
       "    .dataframe thead th {\n",
       "        text-align: right;\n",
       "    }\n",
       "</style>\n",
       "<table border=\"1\" class=\"dataframe\">\n",
       "  <thead>\n",
       "    <tr style=\"text-align: right;\">\n",
       "      <th></th>\n",
       "      <th>ClientPeriod</th>\n",
       "      <th>MonthlySpending</th>\n",
       "      <th>TotalSpent</th>\n",
       "      <th>IsSeniorCitizen</th>\n",
       "      <th>Sex_Female</th>\n",
       "      <th>Sex_Male</th>\n",
       "      <th>HasPartner_No</th>\n",
       "      <th>HasPartner_Yes</th>\n",
       "      <th>HasChild_No</th>\n",
       "      <th>HasChild_Yes</th>\n",
       "      <th>...</th>\n",
       "      <th>HasMovieSubscription_Yes</th>\n",
       "      <th>HasContractPhone_Month-to-month</th>\n",
       "      <th>HasContractPhone_One year</th>\n",
       "      <th>HasContractPhone_Two year</th>\n",
       "      <th>IsBillingPaperless_No</th>\n",
       "      <th>IsBillingPaperless_Yes</th>\n",
       "      <th>PaymentMethod_Bank transfer (automatic)</th>\n",
       "      <th>PaymentMethod_Credit card (automatic)</th>\n",
       "      <th>PaymentMethod_Electronic check</th>\n",
       "      <th>PaymentMethod_Mailed check</th>\n",
       "    </tr>\n",
       "  </thead>\n",
       "  <tbody>\n",
       "    <tr>\n",
       "      <th>2207</th>\n",
       "      <td>10</td>\n",
       "      <td>40.70</td>\n",
       "      <td>449.3</td>\n",
       "      <td>0</td>\n",
       "      <td>1</td>\n",
       "      <td>0</td>\n",
       "      <td>1</td>\n",
       "      <td>0</td>\n",
       "      <td>1</td>\n",
       "      <td>0</td>\n",
       "      <td>...</td>\n",
       "      <td>0</td>\n",
       "      <td>1</td>\n",
       "      <td>0</td>\n",
       "      <td>0</td>\n",
       "      <td>1</td>\n",
       "      <td>0</td>\n",
       "      <td>1</td>\n",
       "      <td>0</td>\n",
       "      <td>0</td>\n",
       "      <td>0</td>\n",
       "    </tr>\n",
       "    <tr>\n",
       "      <th>2468</th>\n",
       "      <td>13</td>\n",
       "      <td>70.15</td>\n",
       "      <td>886.7</td>\n",
       "      <td>0</td>\n",
       "      <td>1</td>\n",
       "      <td>0</td>\n",
       "      <td>1</td>\n",
       "      <td>0</td>\n",
       "      <td>1</td>\n",
       "      <td>0</td>\n",
       "      <td>...</td>\n",
       "      <td>0</td>\n",
       "      <td>1</td>\n",
       "      <td>0</td>\n",
       "      <td>0</td>\n",
       "      <td>0</td>\n",
       "      <td>1</td>\n",
       "      <td>0</td>\n",
       "      <td>0</td>\n",
       "      <td>0</td>\n",
       "      <td>1</td>\n",
       "    </tr>\n",
       "    <tr>\n",
       "      <th>864</th>\n",
       "      <td>13</td>\n",
       "      <td>95.05</td>\n",
       "      <td>1290.0</td>\n",
       "      <td>1</td>\n",
       "      <td>1</td>\n",
       "      <td>0</td>\n",
       "      <td>1</td>\n",
       "      <td>0</td>\n",
       "      <td>1</td>\n",
       "      <td>0</td>\n",
       "      <td>...</td>\n",
       "      <td>1</td>\n",
       "      <td>1</td>\n",
       "      <td>0</td>\n",
       "      <td>0</td>\n",
       "      <td>0</td>\n",
       "      <td>1</td>\n",
       "      <td>0</td>\n",
       "      <td>0</td>\n",
       "      <td>1</td>\n",
       "      <td>0</td>\n",
       "    </tr>\n",
       "    <tr>\n",
       "      <th>1270</th>\n",
       "      <td>14</td>\n",
       "      <td>19.50</td>\n",
       "      <td>272.0</td>\n",
       "      <td>0</td>\n",
       "      <td>1</td>\n",
       "      <td>0</td>\n",
       "      <td>0</td>\n",
       "      <td>1</td>\n",
       "      <td>0</td>\n",
       "      <td>1</td>\n",
       "      <td>...</td>\n",
       "      <td>0</td>\n",
       "      <td>0</td>\n",
       "      <td>1</td>\n",
       "      <td>0</td>\n",
       "      <td>0</td>\n",
       "      <td>1</td>\n",
       "      <td>0</td>\n",
       "      <td>0</td>\n",
       "      <td>0</td>\n",
       "      <td>1</td>\n",
       "    </tr>\n",
       "    <tr>\n",
       "      <th>697</th>\n",
       "      <td>21</td>\n",
       "      <td>35.10</td>\n",
       "      <td>770.4</td>\n",
       "      <td>0</td>\n",
       "      <td>1</td>\n",
       "      <td>0</td>\n",
       "      <td>1</td>\n",
       "      <td>0</td>\n",
       "      <td>1</td>\n",
       "      <td>0</td>\n",
       "      <td>...</td>\n",
       "      <td>0</td>\n",
       "      <td>0</td>\n",
       "      <td>0</td>\n",
       "      <td>1</td>\n",
       "      <td>1</td>\n",
       "      <td>0</td>\n",
       "      <td>0</td>\n",
       "      <td>0</td>\n",
       "      <td>0</td>\n",
       "      <td>1</td>\n",
       "    </tr>\n",
       "  </tbody>\n",
       "</table>\n",
       "<p>5 rows × 45 columns</p>\n",
       "</div>"
      ],
      "text/plain": [
       "      ClientPeriod  MonthlySpending  TotalSpent  IsSeniorCitizen  Sex_Female  \\\n",
       "2207            10            40.70       449.3                0           1   \n",
       "2468            13            70.15       886.7                0           1   \n",
       "864             13            95.05      1290.0                1           1   \n",
       "1270            14            19.50       272.0                0           1   \n",
       "697             21            35.10       770.4                0           1   \n",
       "\n",
       "      Sex_Male  HasPartner_No  HasPartner_Yes  HasChild_No  HasChild_Yes  ...  \\\n",
       "2207         0              1               0            1             0  ...   \n",
       "2468         0              1               0            1             0  ...   \n",
       "864          0              1               0            1             0  ...   \n",
       "1270         0              0               1            0             1  ...   \n",
       "697          0              1               0            1             0  ...   \n",
       "\n",
       "      HasMovieSubscription_Yes  HasContractPhone_Month-to-month  \\\n",
       "2207                         0                                1   \n",
       "2468                         0                                1   \n",
       "864                          1                                1   \n",
       "1270                         0                                0   \n",
       "697                          0                                0   \n",
       "\n",
       "      HasContractPhone_One year  HasContractPhone_Two year  \\\n",
       "2207                          0                          0   \n",
       "2468                          0                          0   \n",
       "864                           0                          0   \n",
       "1270                          1                          0   \n",
       "697                           0                          1   \n",
       "\n",
       "      IsBillingPaperless_No  IsBillingPaperless_Yes  \\\n",
       "2207                      1                       0   \n",
       "2468                      0                       1   \n",
       "864                       0                       1   \n",
       "1270                      0                       1   \n",
       "697                       1                       0   \n",
       "\n",
       "      PaymentMethod_Bank transfer (automatic)  \\\n",
       "2207                                        1   \n",
       "2468                                        0   \n",
       "864                                         0   \n",
       "1270                                        0   \n",
       "697                                         0   \n",
       "\n",
       "      PaymentMethod_Credit card (automatic)  PaymentMethod_Electronic check  \\\n",
       "2207                                      0                               0   \n",
       "2468                                      0                               0   \n",
       "864                                       0                               1   \n",
       "1270                                      0                               0   \n",
       "697                                       0                               0   \n",
       "\n",
       "      PaymentMethod_Mailed check  \n",
       "2207                           0  \n",
       "2468                           1  \n",
       "864                            0  \n",
       "1270                           1  \n",
       "697                            1  \n",
       "\n",
       "[5 rows x 45 columns]"
      ]
     },
     "execution_count": 13,
     "metadata": {},
     "output_type": "execute_result"
    }
   ],
   "source": [
    "dummies = pd.get_dummies(data[cat_cols])\n",
    "X = pd.concat([data[num_cols], dummies], axis=1)\n",
    "y = data[target_col]\n",
    "\n",
    "X.sample(5)"
   ]
  },
  {
   "cell_type": "code",
   "execution_count": 14,
   "id": "23cc6240",
   "metadata": {
    "execution": {
     "iopub.execute_input": "2021-11-21T01:38:34.668022Z",
     "iopub.status.busy": "2021-11-21T01:38:34.667316Z",
     "iopub.status.idle": "2021-11-21T01:38:47.323969Z",
     "shell.execute_reply": "2021-11-21T01:38:47.324506Z",
     "shell.execute_reply.started": "2021-11-21T01:25:57.538979Z"
    },
    "executionInfo": {
     "elapsed": 14110,
     "status": "ok",
     "timestamp": 1634328485494,
     "user": {
      "displayName": "A F",
      "photoUrl": "https://lh3.googleusercontent.com/a-/AOh14GgZy5zRGm6ik6OA70qJGMFu1spLds0d085g4oG5EA=s64",
      "userId": "06133729827856766607"
     },
     "user_tz": -180
    },
    "id": "2adRHFYSJTy6",
    "outputId": "4d605616-45a9-4547-cbbf-5e69b3b04849",
    "papermill": {
     "duration": 12.70103,
     "end_time": "2021-11-21T01:38:47.324703",
     "exception": false,
     "start_time": "2021-11-21T01:38:34.623673",
     "status": "completed"
    },
    "tags": []
   },
   "outputs": [
    {
     "data": {
      "text/plain": [
       "GridSearchCV(estimator=Pipeline(steps=[('standardscaler', StandardScaler()),\n",
       "                                       ('logisticregression',\n",
       "                                        LogisticRegression(max_iter=1000))]),\n",
       "             n_jobs=-1,\n",
       "             param_grid={'logisticregression__C': [100, 10, 1, 0.1, 0.01,\n",
       "                                                   0.001],\n",
       "                         'logisticregression__solver': ['lbfgs', 'newton-cg',\n",
       "                                                        'liblinear', 'sag',\n",
       "                                                        'saga']},\n",
       "             scoring='roc_auc')"
      ]
     },
     "execution_count": 14,
     "metadata": {},
     "output_type": "execute_result"
    }
   ],
   "source": [
    "model = make_pipeline(StandardScaler(), LogisticRegression(max_iter=1000))\n",
    "param_grid = {\n",
    "    'logisticregression__C': [100, 10, 1, 0.1, 0.01, 0.001],\n",
    "    'logisticregression__solver': ['lbfgs', 'newton-cg', 'liblinear', 'sag', 'saga']\n",
    "    }\n",
    "\n",
    "grid_search = GridSearchCV(\n",
    "    estimator=model,\n",
    "    param_grid=param_grid,\n",
    "    scoring='roc_auc',\n",
    "    n_jobs=-1,\n",
    "    refit=True)\n",
    "\n",
    "grid_search.fit(X, y)"
   ]
  },
  {
   "cell_type": "markdown",
   "id": "3dc49c96",
   "metadata": {
    "id": "uVahy6JKEEZQ",
    "papermill": {
     "duration": 0.041002,
     "end_time": "2021-11-21T01:38:47.409025",
     "exception": false,
     "start_time": "2021-11-21T01:38:47.368023",
     "status": "completed"
    },
    "tags": []
   },
   "source": [
    "Выпишите какое лучшее качество и с какими параметрами вам удалось получить"
   ]
  },
  {
   "cell_type": "code",
   "execution_count": 15,
   "id": "48fdd19d",
   "metadata": {
    "execution": {
     "iopub.execute_input": "2021-11-21T01:38:47.501229Z",
     "iopub.status.busy": "2021-11-21T01:38:47.500524Z",
     "iopub.status.idle": "2021-11-21T01:38:47.503283Z",
     "shell.execute_reply": "2021-11-21T01:38:47.503816Z",
     "shell.execute_reply.started": "2021-11-21T01:26:10.568698Z"
    },
    "executionInfo": {
     "elapsed": 498,
     "status": "ok",
     "timestamp": 1634328490442,
     "user": {
      "displayName": "A F",
      "photoUrl": "https://lh3.googleusercontent.com/a-/AOh14GgZy5zRGm6ik6OA70qJGMFu1spLds0d085g4oG5EA=s64",
      "userId": "06133729827856766607"
     },
     "user_tz": -180
    },
    "id": "OZ6UU51jR-Ij",
    "outputId": "3a024146-4adb-48be-a123-5c60d7cacb12",
    "papermill": {
     "duration": 0.052021,
     "end_time": "2021-11-21T01:38:47.503992",
     "exception": false,
     "start_time": "2021-11-21T01:38:47.451971",
     "status": "completed"
    },
    "tags": []
   },
   "outputs": [
    {
     "data": {
      "text/plain": [
       "(0.8448208947144515,\n",
       " {'logisticregression__C': 100, 'logisticregression__solver': 'saga'})"
      ]
     },
     "execution_count": 15,
     "metadata": {},
     "output_type": "execute_result"
    }
   ],
   "source": [
    "grid_search.best_score_, grid_search.best_params_"
   ]
  },
  {
   "cell_type": "markdown",
   "id": "a6e8df62",
   "metadata": {
    "id": "BlTeVy7fEEZR",
    "papermill": {
     "duration": 0.040723,
     "end_time": "2021-11-21T01:38:47.586100",
     "exception": false,
     "start_time": "2021-11-21T01:38:47.545377",
     "status": "completed"
    },
    "tags": []
   },
   "source": [
    "## Применение градиентного бустинга (2 балла)\n",
    "\n",
    "Если вы хотите получить баллы за точный ответ, то стоит попробовать градиентный бустинг. Часто градиентный бустинг с дефолтными параметрами даст вам 80% результата за 0% усилий.\n",
    "\n",
    "Мы будем использовать catboost, поэтому нам не надо кодировать категориальные признаки. catboost сделает это сам (в .fit() надо передать cat_features=cat_cols). А численные признаки нормировать для моделей, основанных на деревьях не нужно.\n",
    "\n",
    "1) Разделите выборку на train/valid. Протестируйте catboost cо стандартными параметрами.\n",
    "\n",
    "2) Протестируйте разные занчения параметроа количества деревьев и learning_rate'а и выберите лучшую по метрике ROC-AUC комбинацию. \n",
    "\n",
    "(Дополнительно) Есть некоторые сложности с тем, чтобы использовать CatBoostClassifier вместе с GridSearchCV, поэтому мы не просим использовать кроссвалидацию. Но можете попробовать)"
   ]
  },
  {
   "cell_type": "code",
   "execution_count": 16,
   "id": "e9c3a3e4",
   "metadata": {
    "execution": {
     "iopub.execute_input": "2021-11-21T01:38:47.672440Z",
     "iopub.status.busy": "2021-11-21T01:38:47.670801Z",
     "iopub.status.idle": "2021-11-21T01:38:47.917902Z",
     "shell.execute_reply": "2021-11-21T01:38:47.917108Z",
     "shell.execute_reply.started": "2021-11-21T01:26:10.578689Z"
    },
    "executionInfo": {
     "elapsed": 13731,
     "status": "ok",
     "timestamp": 1634325183241,
     "user": {
      "displayName": "A F",
      "photoUrl": "https://lh3.googleusercontent.com/a-/AOh14GgZy5zRGm6ik6OA70qJGMFu1spLds0d085g4oG5EA=s64",
      "userId": "06133729827856766607"
     },
     "user_tz": -180
    },
    "id": "Fioxxlp-EEZS",
    "outputId": "8a0f8393-5cfd-44ba-c8d0-bec38b39f019",
    "papermill": {
     "duration": 0.290984,
     "end_time": "2021-11-21T01:38:47.918076",
     "exception": false,
     "start_time": "2021-11-21T01:38:47.627092",
     "status": "completed"
    },
    "tags": []
   },
   "outputs": [],
   "source": [
    "from catboost import CatBoostClassifier"
   ]
  },
  {
   "cell_type": "markdown",
   "id": "31a04447",
   "metadata": {
    "papermill": {
     "duration": 0.041019,
     "end_time": "2021-11-21T01:38:48.002340",
     "exception": false,
     "start_time": "2021-11-21T01:38:47.961321",
     "status": "completed"
    },
    "tags": []
   },
   "source": [
    "Разделять данные из train датасета с помощью `train_test_split` не обязательно. Внутри `CatBoostClassifier.grid_search` используется Cross-validation. Оценить качество полученной после обучения в `grid_search` модели можно по score в таблице соревнования. В противном случае 20% данных train датасета (при `test_size=0.8`) не будут участвовать в обучении модели и могут быть использованы только для оценки качества после обучения"
   ]
  },
  {
   "cell_type": "code",
   "execution_count": 17,
   "id": "018858a8",
   "metadata": {
    "execution": {
     "iopub.execute_input": "2021-11-21T01:38:48.093234Z",
     "iopub.status.busy": "2021-11-21T01:38:48.088415Z",
     "iopub.status.idle": "2021-11-21T01:38:48.098621Z",
     "shell.execute_reply": "2021-11-21T01:38:48.097884Z",
     "shell.execute_reply.started": "2021-11-21T01:26:10.951147Z"
    },
    "executionInfo": {
     "elapsed": 384,
     "status": "ok",
     "timestamp": 1634328579337,
     "user": {
      "displayName": "A F",
      "photoUrl": "https://lh3.googleusercontent.com/a-/AOh14GgZy5zRGm6ik6OA70qJGMFu1spLds0d085g4oG5EA=s64",
      "userId": "06133729827856766607"
     },
     "user_tz": -180
    },
    "id": "X2EOwCXug5DO",
    "papermill": {
     "duration": 0.054829,
     "end_time": "2021-11-21T01:38:48.098771",
     "exception": false,
     "start_time": "2021-11-21T01:38:48.043942",
     "status": "completed"
    },
    "tags": []
   },
   "outputs": [],
   "source": [
    "cat_indicies = [data.columns.get_loc(key) for key in cat_cols]\n",
    "\n",
    "X = data.drop([target_col], axis=1).values\n",
    "y = data[target_col].values"
   ]
  },
  {
   "cell_type": "code",
   "execution_count": 18,
   "id": "22f3b037",
   "metadata": {
    "execution": {
     "iopub.execute_input": "2021-11-21T01:38:48.190802Z",
     "iopub.status.busy": "2021-11-21T01:38:48.190056Z",
     "iopub.status.idle": "2021-11-21T01:45:37.080581Z",
     "shell.execute_reply": "2021-11-21T01:45:37.081265Z",
     "shell.execute_reply.started": "2021-11-21T01:26:10.962991Z"
    },
    "executionInfo": {
     "elapsed": 2026924,
     "status": "ok",
     "timestamp": 1634330614346,
     "user": {
      "displayName": "A F",
      "photoUrl": "https://lh3.googleusercontent.com/a-/AOh14GgZy5zRGm6ik6OA70qJGMFu1spLds0d085g4oG5EA=s64",
      "userId": "06133729827856766607"
     },
     "user_tz": -180
    },
    "id": "ixEoq753X0UV",
    "outputId": "8a7b6ad4-39d4-45a7-c17c-91634970a5df",
    "papermill": {
     "duration": 408.940995,
     "end_time": "2021-11-21T01:45:37.081453",
     "exception": false,
     "start_time": "2021-11-21T01:38:48.140458",
     "status": "completed"
    },
    "tags": []
   },
   "outputs": [
    {
     "name": "stdout",
     "output_type": "stream",
     "text": [
      "0:\tloss: 0.8644264\tbest: 0.8644264 (0)\ttotal: 595ms\tremaining: 53s\n",
      "1:\tloss: 0.8544413\tbest: 0.8644264 (0)\ttotal: 1.1s\tremaining: 48.5s\n",
      "2:\tloss: 0.8639791\tbest: 0.8644264 (0)\ttotal: 1.69s\tremaining: 49.1s\n",
      "3:\tloss: 0.8586290\tbest: 0.8644264 (0)\ttotal: 2.38s\tremaining: 51.2s\n",
      "4:\tloss: 0.8647385\tbest: 0.8647385 (4)\ttotal: 2.87s\tremaining: 48.8s\n",
      "5:\tloss: 0.8572183\tbest: 0.8647385 (4)\ttotal: 3.36s\tremaining: 47s\n",
      "6:\tloss: 0.8643453\tbest: 0.8647385 (4)\ttotal: 3.84s\tremaining: 45.5s\n",
      "7:\tloss: 0.8584668\tbest: 0.8647385 (4)\ttotal: 4.33s\tremaining: 44.4s\n",
      "8:\tloss: 0.8655568\tbest: 0.8655568 (8)\ttotal: 4.8s\tremaining: 43.2s\n",
      "9:\tloss: 0.8544904\tbest: 0.8655568 (8)\ttotal: 5.28s\tremaining: 42.2s\n",
      "10:\tloss: 0.8648417\tbest: 0.8655568 (8)\ttotal: 7.43s\tremaining: 53.4s\n",
      "11:\tloss: 0.8637137\tbest: 0.8655568 (8)\ttotal: 9.52s\tremaining: 1m 1s\n",
      "12:\tloss: 0.8641044\tbest: 0.8655568 (8)\ttotal: 11.7s\tremaining: 1m 9s\n",
      "13:\tloss: 0.8641020\tbest: 0.8655568 (8)\ttotal: 13.9s\tremaining: 1m 15s\n",
      "14:\tloss: 0.8652840\tbest: 0.8655568 (8)\ttotal: 16.1s\tremaining: 1m 20s\n",
      "15:\tloss: 0.8637751\tbest: 0.8655568 (8)\ttotal: 18.3s\tremaining: 1m 24s\n",
      "16:\tloss: 0.8651440\tbest: 0.8655568 (8)\ttotal: 20.5s\tremaining: 1m 27s\n",
      "17:\tloss: 0.8646352\tbest: 0.8655568 (8)\ttotal: 22.6s\tremaining: 1m 30s\n",
      "18:\tloss: 0.8650506\tbest: 0.8655568 (8)\ttotal: 24.8s\tremaining: 1m 32s\n",
      "19:\tloss: 0.8643059\tbest: 0.8655568 (8)\ttotal: 26.8s\tremaining: 1m 33s\n",
      "20:\tloss: 0.8638734\tbest: 0.8655568 (8)\ttotal: 30.6s\tremaining: 1m 40s\n",
      "21:\tloss: 0.8648638\tbest: 0.8655568 (8)\ttotal: 34.4s\tremaining: 1m 46s\n",
      "22:\tloss: 0.8633426\tbest: 0.8655568 (8)\ttotal: 38.1s\tremaining: 1m 50s\n",
      "23:\tloss: 0.8649523\tbest: 0.8655568 (8)\ttotal: 41.7s\tremaining: 1m 54s\n",
      "24:\tloss: 0.8646598\tbest: 0.8655568 (8)\ttotal: 45.4s\tremaining: 1m 57s\n",
      "25:\tloss: 0.8642912\tbest: 0.8655568 (8)\ttotal: 49s\tremaining: 2m\n",
      "26:\tloss: 0.8643059\tbest: 0.8655568 (8)\ttotal: 52.7s\tremaining: 2m 2s\n",
      "27:\tloss: 0.8654217\tbest: 0.8655568 (8)\ttotal: 56.2s\tremaining: 2m 4s\n",
      "28:\tloss: 0.8651440\tbest: 0.8655568 (8)\ttotal: 59.9s\tremaining: 2m 5s\n",
      "29:\tloss: 0.8649646\tbest: 0.8655568 (8)\ttotal: 1m 3s\tremaining: 2m 7s\n",
      "30:\tloss: 0.8648712\tbest: 0.8655568 (8)\ttotal: 1m 4s\tremaining: 2m 2s\n",
      "31:\tloss: 0.8566482\tbest: 0.8655568 (8)\ttotal: 1m 4s\tremaining: 1m 57s\n",
      "32:\tloss: 0.8643059\tbest: 0.8655568 (8)\ttotal: 1m 5s\tremaining: 1m 53s\n",
      "33:\tloss: 0.8560018\tbest: 0.8655568 (8)\ttotal: 1m 6s\tremaining: 1m 48s\n",
      "34:\tloss: 0.8658493\tbest: 0.8658493 (34)\ttotal: 1m 6s\tremaining: 1m 45s\n",
      "35:\tloss: 0.8589165\tbest: 0.8658493 (34)\ttotal: 1m 7s\tremaining: 1m 41s\n",
      "36:\tloss: 0.8652693\tbest: 0.8658493 (34)\ttotal: 1m 8s\tremaining: 1m 37s\n",
      "37:\tloss: 0.8560829\tbest: 0.8658493 (34)\ttotal: 1m 8s\tremaining: 1m 34s\n",
      "38:\tloss: 0.8654364\tbest: 0.8658493 (34)\ttotal: 1m 9s\tremaining: 1m 30s\n",
      "39:\tloss: 0.8544683\tbest: 0.8658493 (34)\ttotal: 1m 10s\tremaining: 1m 27s\n",
      "40:\tloss: 0.8617132\tbest: 0.8658493 (34)\ttotal: 1m 13s\tremaining: 1m 27s\n",
      "41:\tloss: 0.8631288\tbest: 0.8658493 (34)\ttotal: 1m 16s\tremaining: 1m 27s\n",
      "42:\tloss: 0.8635146\tbest: 0.8658493 (34)\ttotal: 1m 20s\tremaining: 1m 27s\n",
      "43:\tloss: 0.8646377\tbest: 0.8658493 (34)\ttotal: 1m 23s\tremaining: 1m 27s\n",
      "44:\tloss: 0.8641708\tbest: 0.8658493 (34)\ttotal: 1m 26s\tremaining: 1m 26s\n",
      "45:\tloss: 0.8642912\tbest: 0.8658493 (34)\ttotal: 1m 29s\tremaining: 1m 25s\n",
      "46:\tloss: 0.8630452\tbest: 0.8658493 (34)\ttotal: 1m 33s\tremaining: 1m 25s\n",
      "47:\tloss: 0.8642912\tbest: 0.8658493 (34)\ttotal: 1m 36s\tremaining: 1m 24s\n",
      "48:\tloss: 0.8632172\tbest: 0.8658493 (34)\ttotal: 1m 39s\tremaining: 1m 23s\n",
      "49:\tloss: 0.8636301\tbest: 0.8658493 (34)\ttotal: 1m 43s\tremaining: 1m 22s\n",
      "50:\tloss: 0.8597177\tbest: 0.8658493 (34)\ttotal: 1m 49s\tremaining: 1m 23s\n",
      "51:\tloss: 0.8636326\tbest: 0.8658493 (34)\ttotal: 1m 54s\tremaining: 1m 23s\n",
      "52:\tloss: 0.8624357\tbest: 0.8658493 (34)\ttotal: 2m\tremaining: 1m 23s\n",
      "53:\tloss: 0.8649891\tbest: 0.8658493 (34)\ttotal: 2m 5s\tremaining: 1m 23s\n",
      "54:\tloss: 0.8638636\tbest: 0.8658493 (34)\ttotal: 2m 11s\tremaining: 1m 23s\n",
      "55:\tloss: 0.8644313\tbest: 0.8658493 (34)\ttotal: 2m 16s\tremaining: 1m 23s\n",
      "56:\tloss: 0.8608334\tbest: 0.8658493 (34)\ttotal: 2m 22s\tremaining: 1m 22s\n",
      "57:\tloss: 0.8643084\tbest: 0.8658493 (34)\ttotal: 2m 27s\tremaining: 1m 21s\n",
      "58:\tloss: 0.8617427\tbest: 0.8658493 (34)\ttotal: 2m 33s\tremaining: 1m 20s\n",
      "59:\tloss: 0.8639422\tbest: 0.8658493 (34)\ttotal: 2m 38s\tremaining: 1m 19s\n",
      "60:\tloss: 0.8573633\tbest: 0.8658493 (34)\ttotal: 2m 39s\tremaining: 1m 15s\n",
      "61:\tloss: 0.8583414\tbest: 0.8658493 (34)\ttotal: 2m 40s\tremaining: 1m 12s\n",
      "62:\tloss: 0.8598971\tbest: 0.8658493 (34)\ttotal: 2m 41s\tremaining: 1m 9s\n",
      "63:\tloss: 0.8582210\tbest: 0.8658493 (34)\ttotal: 2m 43s\tremaining: 1m 6s\n",
      "64:\tloss: 0.8618066\tbest: 0.8658493 (34)\ttotal: 2m 44s\tremaining: 1m 3s\n",
      "65:\tloss: 0.8584152\tbest: 0.8658493 (34)\ttotal: 2m 45s\tremaining: 1m\n",
      "66:\tloss: 0.8620622\tbest: 0.8658493 (34)\ttotal: 2m 46s\tremaining: 57.3s\n",
      "67:\tloss: 0.8597914\tbest: 0.8658493 (34)\ttotal: 2m 48s\tremaining: 54.4s\n",
      "68:\tloss: 0.8608703\tbest: 0.8658493 (34)\ttotal: 2m 49s\tremaining: 51.5s\n",
      "69:\tloss: 0.8572994\tbest: 0.8658493 (34)\ttotal: 2m 50s\tremaining: 48.7s\n",
      "70:\tloss: 0.8560289\tbest: 0.8658493 (34)\ttotal: 2m 58s\tremaining: 47.9s\n",
      "71:\tloss: 0.8602903\tbest: 0.8658493 (34)\ttotal: 3m 7s\tremaining: 47s\n",
      "72:\tloss: 0.8579212\tbest: 0.8658493 (34)\ttotal: 3m 16s\tremaining: 45.8s\n",
      "73:\tloss: 0.8617378\tbest: 0.8658493 (34)\ttotal: 3m 24s\tremaining: 44.3s\n",
      "74:\tloss: 0.8548615\tbest: 0.8658493 (34)\ttotal: 3m 33s\tremaining: 42.7s\n",
      "75:\tloss: 0.8615240\tbest: 0.8658493 (34)\ttotal: 3m 41s\tremaining: 40.8s\n",
      "76:\tloss: 0.8560068\tbest: 0.8658493 (34)\ttotal: 3m 50s\tremaining: 38.9s\n",
      "77:\tloss: 0.8618705\tbest: 0.8658493 (34)\ttotal: 3m 58s\tremaining: 36.7s\n",
      "78:\tloss: 0.8582947\tbest: 0.8658493 (34)\ttotal: 4m 6s\tremaining: 34.4s\n",
      "79:\tloss: 0.8602706\tbest: 0.8658493 (34)\ttotal: 4m 14s\tremaining: 31.9s\n",
      "80:\tloss: 0.8503101\tbest: 0.8658493 (34)\ttotal: 4m 30s\tremaining: 30.1s\n",
      "81:\tloss: 0.8592876\tbest: 0.8658493 (34)\ttotal: 4m 45s\tremaining: 27.8s\n",
      "82:\tloss: 0.8520034\tbest: 0.8658493 (34)\ttotal: 5m 1s\tremaining: 25.4s\n",
      "83:\tloss: 0.8615879\tbest: 0.8658493 (34)\ttotal: 5m 15s\tremaining: 22.5s\n",
      "84:\tloss: 0.8497228\tbest: 0.8658493 (34)\ttotal: 5m 31s\tremaining: 19.5s\n",
      "85:\tloss: 0.8608555\tbest: 0.8658493 (34)\ttotal: 5m 46s\tremaining: 16.1s\n",
      "86:\tloss: 0.8531216\tbest: 0.8658493 (34)\ttotal: 6m 2s\tremaining: 12.5s\n",
      "87:\tloss: 0.8616026\tbest: 0.8658493 (34)\ttotal: 6m 16s\tremaining: 8.55s\n",
      "88:\tloss: 0.8554342\tbest: 0.8658493 (34)\ttotal: 6m 31s\tremaining: 4.4s\n",
      "89:\tloss: 0.8596759\tbest: 0.8658493 (34)\ttotal: 6m 45s\tremaining: 0us\n",
      "Estimating final quality...\n"
     ]
    }
   ],
   "source": [
    "boosting_model = CatBoostClassifier(cat_features=cat_indicies,\n",
    "                                    task_type='CPU',\n",
    "                                    eval_metric='AUC:hints=skip_train~false',\n",
    "                                    metric_period=500,\n",
    "                                    logging_level='Silent')\n",
    "\n",
    "param_grid = {\n",
    "    'iterations':[100, 300, 500],\n",
    "    'learning_rate': [0.03, 0.01],\n",
    "    'depth': [4, 6, 10],\n",
    "    'l2_leaf_reg': [1, 3, 5, 7, 9]\n",
    "}\n",
    "\n",
    "grid_search_result = boosting_model.grid_search(\n",
    "    param_grid=param_grid,\n",
    "    X=X,\n",
    "    y=y,\n",
    "    cv=5,\n",
    "    refit=True)"
   ]
  },
  {
   "cell_type": "markdown",
   "id": "df5b2075",
   "metadata": {
    "id": "rf4Kjt96EEZU",
    "papermill": {
     "duration": 0.069353,
     "end_time": "2021-11-21T01:45:37.220438",
     "exception": false,
     "start_time": "2021-11-21T01:45:37.151085",
     "status": "completed"
    },
    "tags": []
   },
   "source": [
    "Выпишите какое лучшее качество и с какими параметрами вам удалось получить"
   ]
  },
  {
   "cell_type": "code",
   "execution_count": 19,
   "id": "770485a7",
   "metadata": {
    "execution": {
     "iopub.execute_input": "2021-11-21T01:45:37.361239Z",
     "iopub.status.busy": "2021-11-21T01:45:37.360253Z",
     "iopub.status.idle": "2021-11-21T01:45:37.366725Z",
     "shell.execute_reply": "2021-11-21T01:45:37.366185Z",
     "shell.execute_reply.started": "2021-11-21T01:33:06.850028Z"
    },
    "executionInfo": {
     "elapsed": 515,
     "status": "ok",
     "timestamp": 1634330620684,
     "user": {
      "displayName": "A F",
      "photoUrl": "https://lh3.googleusercontent.com/a-/AOh14GgZy5zRGm6ik6OA70qJGMFu1spLds0d085g4oG5EA=s64",
      "userId": "06133729827856766607"
     },
     "user_tz": -180
    },
    "id": "_NMoCrITizJ7",
    "outputId": "661ac60b-0c77-40a2-b079-6ee07c6eb937",
    "papermill": {
     "duration": 0.077377,
     "end_time": "2021-11-21T01:45:37.366870",
     "exception": false,
     "start_time": "2021-11-21T01:45:37.289493",
     "status": "completed"
    },
    "tags": []
   },
   "outputs": [
    {
     "data": {
      "text/plain": [
       "{'depth': 6, 'l2_leaf_reg': 5, 'iterations': 100, 'learning_rate': 0.03}"
      ]
     },
     "execution_count": 19,
     "metadata": {},
     "output_type": "execute_result"
    }
   ],
   "source": [
    "grid_search_result['params']"
   ]
  },
  {
   "cell_type": "markdown",
   "id": "c52f4557",
   "metadata": {
    "id": "dDMXbvNZEEZV",
    "papermill": {
     "duration": 0.068119,
     "end_time": "2021-11-21T01:45:37.503416",
     "exception": false,
     "start_time": "2021-11-21T01:45:37.435297",
     "status": "completed"
    },
    "tags": []
   },
   "source": [
    "# Предсказания"
   ]
  },
  {
   "cell_type": "code",
   "execution_count": 20,
   "id": "7cb078fb",
   "metadata": {
    "execution": {
     "iopub.execute_input": "2021-11-21T01:45:37.643902Z",
     "iopub.status.busy": "2021-11-21T01:45:37.643275Z",
     "iopub.status.idle": "2021-11-21T01:45:37.646033Z",
     "shell.execute_reply": "2021-11-21T01:45:37.646491Z",
     "shell.execute_reply.started": "2021-11-21T01:33:06.860088Z"
    },
    "executionInfo": {
     "elapsed": 517,
     "status": "ok",
     "timestamp": 1634330627741,
     "user": {
      "displayName": "A F",
      "photoUrl": "https://lh3.googleusercontent.com/a-/AOh14GgZy5zRGm6ik6OA70qJGMFu1spLds0d085g4oG5EA=s64",
      "userId": "06133729827856766607"
     },
     "user_tz": -180
    },
    "id": "G_P4wFNaEEZW",
    "papermill": {
     "duration": 0.074407,
     "end_time": "2021-11-21T01:45:37.646669",
     "exception": false,
     "start_time": "2021-11-21T01:45:37.572262",
     "status": "completed"
    },
    "tags": []
   },
   "outputs": [],
   "source": [
    "best_model = boosting_model"
   ]
  },
  {
   "cell_type": "code",
   "execution_count": 21,
   "id": "8d4afed7",
   "metadata": {
    "execution": {
     "iopub.execute_input": "2021-11-21T01:45:37.786046Z",
     "iopub.status.busy": "2021-11-21T01:45:37.785392Z",
     "iopub.status.idle": "2021-11-21T01:45:37.839416Z",
     "shell.execute_reply": "2021-11-21T01:45:37.838879Z",
     "shell.execute_reply.started": "2021-11-21T01:33:06.873500Z"
    },
    "executionInfo": {
     "elapsed": 409,
     "status": "ok",
     "timestamp": 1634330795890,
     "user": {
      "displayName": "A F",
      "photoUrl": "https://lh3.googleusercontent.com/a-/AOh14GgZy5zRGm6ik6OA70qJGMFu1spLds0d085g4oG5EA=s64",
      "userId": "06133729827856766607"
     },
     "user_tz": -180
    },
    "id": "FfSufx0CEEZZ",
    "papermill": {
     "duration": 0.124758,
     "end_time": "2021-11-21T01:45:37.839599",
     "exception": false,
     "start_time": "2021-11-21T01:45:37.714841",
     "status": "completed"
    },
    "tags": []
   },
   "outputs": [],
   "source": [
    "X_test = pd.read_csv('/kaggle/input/advanced-dls-spring-2021/test.csv')\n",
    "submission = pd.read_csv('/kaggle/input/advanced-dls-spring-2021/submission.csv')\n",
    "\n",
    "submission['Churn'] = best_model.predict_proba(X_test)[:, 1]\n",
    "submission.to_csv('./my_submission.csv', index=False)"
   ]
  },
  {
   "cell_type": "markdown",
   "id": "927f0b1a",
   "metadata": {
    "id": "mkxjbGkVEEZc",
    "papermill": {
     "duration": 0.067907,
     "end_time": "2021-11-21T01:45:37.975988",
     "exception": false,
     "start_time": "2021-11-21T01:45:37.908081",
     "status": "completed"
    },
    "tags": []
   },
   "source": [
    "# Kaggle (5 баллов)\n",
    "\n",
    "Как выставить баллы:\n",
    "\n",
    "1) 1 >= roc auc > 0.84 это 5 баллов\n",
    "\n",
    "2) 0.84 >= roc auc > 0.7 это 3 балла\n",
    "\n",
    "3) 0.7 >= roc auc > 0.6 это 1 балл\n",
    "\n",
    "4) 0.6 >= roc auc это 0 баллов\n",
    "\n",
    "\n",
    "Для выполнения задания необходимо выполнить следующие шаги.\n",
    "* Зарегистрироваться на платформе [kaggle.com](kaggle.com). Процесс выставления оценок будет проходить при подведении итогового рейтинга. Пожалуйста, укажите во вкладке Team -> Team name свои имя и фамилию в формате Имя_Фамилия (важно, чтобы имя и фамилия совпадали с данными на Stepik).\n",
    "* Обучить модель, получить файл с ответами в формате .csv и сдать его в конкурс. Пробуйте и экспериментируйте. Обратите внимание, что вы можете выполнять до 20 попыток сдачи на kaggle в день.\n",
    "* После окончания соревнования отправить в итоговый ноутбук с решением на степик. \n",
    "* После дедлайна проверьте посылки других участников по критериям. Для этого надо зайти на степик, скачать их ноутбук и проверить скор в соревновании."
   ]
  }
 ],
 "metadata": {
  "kernelspec": {
   "display_name": "Python 3",
   "language": "python",
   "name": "python3"
  },
  "language_info": {
   "codemirror_mode": {
    "name": "ipython",
    "version": 3
   },
   "file_extension": ".py",
   "mimetype": "text/x-python",
   "name": "python",
   "nbconvert_exporter": "python",
   "pygments_lexer": "ipython3",
   "version": "3.7.10"
  },
  "papermill": {
   "default_parameters": {},
   "duration": 440.061465,
   "end_time": "2021-11-21T01:45:38.759105",
   "environment_variables": {},
   "exception": null,
   "input_path": "__notebook__.ipynb",
   "output_path": "__notebook__.ipynb",
   "parameters": {},
   "start_time": "2021-11-21T01:38:18.697640",
   "version": "2.3.3"
  }
 },
 "nbformat": 4,
 "nbformat_minor": 5
}
